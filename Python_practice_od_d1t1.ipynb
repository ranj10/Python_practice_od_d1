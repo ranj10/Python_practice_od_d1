{
  "nbformat": 4,
  "nbformat_minor": 0,
  "metadata": {
    "colab": {
      "provenance": [],
      "include_colab_link": true
    },
    "kernelspec": {
      "name": "python3",
      "display_name": "Python 3"
    },
    "language_info": {
      "name": "python"
    }
  },
  "cells": [
    {
      "cell_type": "markdown",
      "metadata": {
        "id": "view-in-github",
        "colab_type": "text"
      },
      "source": [
        "<a href=\"https://colab.research.google.com/github/ranj10/Python_practice_od_d1/blob/main/Python_practice_od_d1t1.ipynb\" target=\"_parent\"><img src=\"https://colab.research.google.com/assets/colab-badge.svg\" alt=\"Open In Colab\"/></a>"
      ]
    },
    {
      "cell_type": "code",
      "source": [
        "#Day 1 - Task 1\n",
        "#print all single digit number\n",
        "\n",
        "for i in range(0,10):\n",
        "  print(i)"
      ],
      "metadata": {
        "colab": {
          "base_uri": "https://localhost:8080/"
        },
        "id": "UHUmvfknwpev",
        "outputId": "33f8f3f8-c1a5-4be3-8f28-1b29f260a04d"
      },
      "execution_count": null,
      "outputs": [
        {
          "output_type": "stream",
          "name": "stdout",
          "text": [
            "0\n",
            "1\n",
            "2\n",
            "3\n",
            "4\n",
            "5\n",
            "6\n",
            "7\n",
            "8\n",
            "9\n"
          ]
        }
      ]
    },
    {
      "cell_type": "code",
      "source": [
        "'''Day 1 - Task 2\n",
        "WAP to write all the even numbers between 1 and 20'''\n",
        "\n",
        "for i in range(1,20):\n",
        "  if i%2==0:\n",
        "     print(i)\n"
      ],
      "metadata": {
        "colab": {
          "base_uri": "https://localhost:8080/"
        },
        "id": "tSfWgQvnwpiQ",
        "outputId": "c71733f3-2180-46bc-c361-387984e61542"
      },
      "execution_count": null,
      "outputs": [
        {
          "output_type": "stream",
          "name": "stdout",
          "text": [
            "2\n",
            "4\n",
            "6\n",
            "8\n",
            "10\n",
            "12\n",
            "14\n",
            "16\n",
            "18\n"
          ]
        }
      ]
    },
    {
      "cell_type": "code",
      "source": [
        "''' WAP to check whether a number entered by user is prime or not.\n",
        "A number is said to be prime, if it is divisible by 1 and itself only.\n",
        "Sample Output\n",
        "Enter the number to be checked for prime:67\n",
        " Prime number\n",
        "Enter the number to be checked for prime:33\n",
        " Not a prime number'''\n",
        "\n",
        "n=int(input(\"Enter the number to be checked for prime:\"))\n",
        "\n",
        "if n==1:\n",
        "  print(\" Not a prime number\")\n",
        "else:\n",
        "  for i in range(2,n**2):\n",
        "    if n%i==0:\n",
        "      print(\"Not a prime number\")\n",
        "      break\n",
        "else:\n",
        "  print(\" prime number\")\n"
      ],
      "metadata": {
        "id": "uQXn7zNHBAEI"
      },
      "execution_count": null,
      "outputs": []
    },
    {
      "cell_type": "code",
      "source": [
        "'''Day 1 - Task 3\n",
        "Task 3\n",
        "WAP to prompt user to enter their name, print all letters of the name.\n",
        "Sample Output\n",
        "Enter your name: Sharda\n",
        " S\n",
        " h\n",
        " a\n",
        " r\n",
        " d\n",
        " a\n",
        "'''\n",
        "\n",
        "name=(input(\"Enter your name:\"))\n",
        "for i in name:\n",
        "  print(i)"
      ],
      "metadata": {
        "id": "NiFUkeNkBALY",
        "colab": {
          "base_uri": "https://localhost:8080/"
        },
        "outputId": "bcfc2192-2772-421d-b6b9-cee4af1be0f6"
      },
      "execution_count": null,
      "outputs": [
        {
          "output_type": "stream",
          "name": "stdout",
          "text": [
            "Enter your name:ranjana gautam\n",
            "r\n",
            "a\n",
            "n\n",
            "j\n",
            "a\n",
            "n\n",
            "a\n",
            " \n",
            "g\n",
            "a\n",
            "u\n",
            "t\n",
            "a\n",
            "m\n"
          ]
        }
      ]
    },
    {
      "cell_type": "code",
      "source": [
        "'''Day 1 - Task 4\n",
        "WAP to calculate the factorial of a number entered by user, using for loop\n",
        "Sample Output\n",
        "Enter the number:5\n",
        " Factorial of 5 is 120'''\n",
        "\n",
        "num=int(input(\"Enter the number :\"))\n",
        "\n",
        "fact=1\n",
        "for i in range(1,num+1):\n",
        "  fact=fact*i\n",
        "\n",
        "\n",
        "print(fact)\n",
        "\n"
      ],
      "metadata": {
        "id": "yucctK2KBAOF",
        "colab": {
          "base_uri": "https://localhost:8080/"
        },
        "outputId": "712c7d19-71f2-4f13-be1f-079231ddcee3"
      },
      "execution_count": null,
      "outputs": [
        {
          "output_type": "stream",
          "name": "stdout",
          "text": [
            "Enter the number :10\n",
            "3628800\n"
          ]
        }
      ]
    },
    {
      "cell_type": "code",
      "source": [
        "'''Day 1 - Task 5\n",
        "WAP to print the sum of all numbers from 10 to 99\n",
        "Sample Output\n",
        "4905\n",
        "'''\n",
        "\n",
        "\n",
        "sum=0\n",
        "for i in range(10,100):\n",
        "  sum=sum+i\n",
        "\n",
        "\n",
        "print(sum)"
      ],
      "metadata": {
        "id": "KWqlWqz2BAQ3",
        "colab": {
          "base_uri": "https://localhost:8080/"
        },
        "outputId": "e749428c-b3e8-4053-bfc8-82505b26e2bf"
      },
      "execution_count": null,
      "outputs": [
        {
          "output_type": "stream",
          "name": "stdout",
          "text": [
            "4905\n"
          ]
        }
      ]
    },
    {
      "cell_type": "code",
      "source": [
        "#Modify the code to get the sum of all even numbers between 10 to 99\n",
        "\n",
        "sum=0\n",
        "for i in range(10,100):\n",
        "  if i%2==0:\n",
        "    sum=sum+i\n",
        "\n",
        "\n",
        "print(sum)"
      ],
      "metadata": {
        "id": "rg7PIyqCBAUb",
        "colab": {
          "base_uri": "https://localhost:8080/"
        },
        "outputId": "4f3eff45-7a90-4ce2-8d39-22b440e0f54e"
      },
      "execution_count": null,
      "outputs": [
        {
          "output_type": "stream",
          "name": "stdout",
          "text": [
            "2430\n"
          ]
        }
      ]
    },
    {
      "cell_type": "code",
      "source": [
        "#Modify the code to print the sum of all odd numbers between 101 to 200\n",
        "\n",
        "sum=0\n",
        "for i in range(10,100):\n",
        "  if i%2!=0:\n",
        "    sum=sum+i\n",
        "\n",
        "\n",
        "print(sum)"
      ],
      "metadata": {
        "colab": {
          "base_uri": "https://localhost:8080/"
        },
        "id": "VuZLdWIcFvei",
        "outputId": "4b187113-99da-4a97-8089-e7a6978cd2b1"
      },
      "execution_count": null,
      "outputs": [
        {
          "output_type": "stream",
          "name": "stdout",
          "text": [
            "2475\n"
          ]
        }
      ]
    },
    {
      "cell_type": "code",
      "source": [
        "'''Day 1 - Task 6\n",
        "WAP to print the letters of the string and their index position\n",
        "Sample Output\n",
        "Enter a word:OdinSchool\n",
        "(0, 'O')\n",
        "(1, 'd')\n",
        "(2, 'i')\n",
        "(3, 'n')\n",
        "(4, 'S')\n",
        "(5, 'c')\n",
        "(6, 'h')\n",
        "(7, 'o')\n",
        "(8, 'o')\n",
        "(9, 'l')'''\n",
        "\n",
        "str=(input(\"Enter a string :\"))\n",
        "\n",
        "sum=0\n",
        "for i in str:\n",
        "  print(sum,i)\n",
        "  sum+=1\n",
        "\n",
        "\n"
      ],
      "metadata": {
        "colab": {
          "base_uri": "https://localhost:8080/"
        },
        "id": "pQaBL9fFFvh5",
        "outputId": "8ec638f9-edb7-451a-bdf0-0b7ae01d8d21"
      },
      "execution_count": null,
      "outputs": [
        {
          "output_type": "stream",
          "name": "stdout",
          "text": [
            "Enter a string :ranjana gautam\n",
            "0 r\n",
            "1 a\n",
            "2 n\n",
            "3 j\n",
            "4 a\n",
            "5 n\n",
            "6 a\n",
            "7  \n",
            "8 g\n",
            "9 a\n",
            "10 u\n",
            "11 t\n",
            "12 a\n",
            "13 m\n"
          ]
        }
      ]
    },
    {
      "cell_type": "code",
      "source": [
        "'''Day 1 - Task 7\n",
        "WAP to aggregate the below 2 lists, and create a restaurant menu\n",
        "items=['Juice','Salad','Sandwich','Paratha','Idli Sambar','Dosa','Misal Pav']\n",
        "price=[100,150,80,180,90,120,50]\n",
        "Sample Output\n",
        " ('Juice', 100)\n",
        " ('Salad', 150)\n",
        " ('Sandwich', 80)\n",
        " ('Paratha', 180)\n",
        " ('Idli Sambar', 90)\n",
        " ('Dosa', 120)\n",
        " ('Misal Pav', 50)'''\n",
        "\n",
        "items=['Juice','Salad','Sandwich','Paratha','Idli Sambar','Dosa','Misal Pav']\n",
        "price=[100,150,80,180,90,120,50]\n",
        "\n",
        "menu = list(zip(items, price))\n",
        "\n",
        "for item, cost in menu:\n",
        "    print(f'({item}, {cost})')"
      ],
      "metadata": {
        "colab": {
          "base_uri": "https://localhost:8080/"
        },
        "id": "E7VSPZoRMRkz",
        "outputId": "e4907aff-343a-45eb-a63a-f5f0ff865f02"
      },
      "execution_count": null,
      "outputs": [
        {
          "output_type": "stream",
          "name": "stdout",
          "text": [
            "(Juice, 100)\n",
            "(Salad, 150)\n",
            "(Sandwich, 80)\n",
            "(Paratha, 180)\n",
            "(Idli Sambar, 90)\n",
            "(Dosa, 120)\n",
            "(Misal Pav, 50)\n"
          ]
        }
      ]
    },
    {
      "cell_type": "code",
      "source": [
        "'''Day 1 - Task 8\n",
        "WAP to print the multiplication table of 1-5 as below format\n",
        "1 2 3 4 5\n",
        "2 4 6 8 10\n",
        "3 6 9 12 15\n",
        "4 8 12 16 20\n",
        "5 10 15 20 25\n",
        "6 12 18 24 30\n",
        "7 14 21 28 35\n",
        "8 16 24 32 40\n",
        "9 18 27 36 45\n",
        "10 20 30 40 50 '''\n",
        "\n",
        "\n",
        "for i in range(1,11):\n",
        "  for j in range(1,6):\n",
        "    print(i*j, end=' ')\n",
        "  print()"
      ],
      "metadata": {
        "id": "IIzszVAgMRzW",
        "colab": {
          "base_uri": "https://localhost:8080/"
        },
        "outputId": "0dfadb86-eb8f-4748-ceaa-1ece630c5306"
      },
      "execution_count": null,
      "outputs": [
        {
          "output_type": "stream",
          "name": "stdout",
          "text": [
            "1 2 3 4 5 \n",
            "2 4 6 8 10 \n",
            "3 6 9 12 15 \n",
            "4 8 12 16 20 \n",
            "5 10 15 20 25 \n",
            "6 12 18 24 30 \n",
            "7 14 21 28 35 \n",
            "8 16 24 32 40 \n",
            "9 18 27 36 45 \n",
            "10 20 30 40 50 \n"
          ]
        }
      ]
    },
    {
      "cell_type": "code",
      "source": [
        "'''Day 1 - Task 9\n",
        "Let us enhance our number guessing game.\n",
        "Use the below code to generate a random number in your code:\n",
        "import random as r\n",
        "r_num=r.randint(1,10)\n",
        "the value stored in r_num, is a random integer between 1 and 10. Ask your player to enter a guess between this range,\n",
        " if their guess matches the r_num value, print 'You Win', else they get another chance.\n",
        "Maximum number of chances to be given is 5.\n",
        "Sample Output\n",
        "Enter your guess (1-10): 4\n",
        " Incorrect Guess!!\n",
        " Enter your guess (1-10): 3\n",
        " Incorrect Guess!!\n",
        " Enter your guess (1-10): 7\n",
        " You Win\n",
        " You got 3 chances\n",
        " The ans is  7\n",
        "Enter your guess (1-10): 5\n",
        " Incorrect Guess!!\n",
        " Enter your guess (1-10): 8\n",
        " Incorrect Guess!!\n",
        " Enter your guess (1-10): 6\n",
        " Incorrect Guess!!\n",
        " Enter your guess (1-10): 6\n",
        " Incorrect Guess!!\n",
        " Enter your guess (1-10): 5\n",
        " Incorrect Guess!!\n",
        " You got 5 chances\n",
        " The ans is  3'''\n",
        "import random as r\n",
        "r_num=r.randint(1,10)\n",
        "print(r_num)\n",
        "\n",
        "chnc=0\n",
        "fchnc=5\n",
        "\n",
        "while chnc<fchnc:\n",
        "  rndm=int(input(\"Enter any number from 1 to 10 :\"))\n",
        "  if rndm==r_num:\n",
        "    print(\"You Win\")\n",
        "    break\n",
        "  else:\n",
        "      print(\"Incorrect Guess!\")\n",
        "      chnc+=1\n",
        "\n",
        "\n",
        "\n",
        "print(\"You got {} chances\".format(chnc+1))\n",
        "print(\"The ans is {} \".format(r_num))"
      ],
      "metadata": {
        "id": "uCmSxToXMR2v",
        "colab": {
          "base_uri": "https://localhost:8080/"
        },
        "outputId": "36653ddd-72c2-485c-c834-2c1b675d65a9"
      },
      "execution_count": null,
      "outputs": [
        {
          "output_type": "stream",
          "name": "stdout",
          "text": [
            "3\n",
            "Enter any number from 1 to 10 :2\n",
            "Incorrect Guess!\n",
            "Enter any number from 1 to 10 :5\n",
            "Incorrect Guess!\n",
            "Enter any number from 1 to 10 :6\n",
            "Incorrect Guess!\n",
            "Enter any number from 1 to 10 :3\n",
            "You Win\n",
            "You got 4 chances\n",
            "The ans is 3 \n"
          ]
        }
      ]
    },
    {
      "cell_type": "code",
      "source": [
        "'''Day 1 - Task 10\n",
        "WAP to print all the numbers between 5 and 15 except 10.'''\n",
        "\n",
        "for i in range(5,16):\n",
        "  if i!=10:\n",
        "    print(i)\n",
        "\n",
        "\n"
      ],
      "metadata": {
        "id": "H-j7CWLwMScS",
        "colab": {
          "base_uri": "https://localhost:8080/"
        },
        "outputId": "5d18c06f-304b-4a18-ae8a-840674785a50"
      },
      "execution_count": null,
      "outputs": [
        {
          "output_type": "stream",
          "name": "stdout",
          "text": [
            "5\n",
            "6\n",
            "7\n",
            "8\n",
            "9\n",
            "11\n",
            "12\n",
            "13\n",
            "14\n",
            "15\n"
          ]
        }
      ]
    }
  ]
}
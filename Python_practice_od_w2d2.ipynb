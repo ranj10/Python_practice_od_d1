{
  "cells": [
    {
      "cell_type": "markdown",
      "metadata": {
        "id": "view-in-github",
        "colab_type": "text"
      },
      "source": [
        "<a href=\"https://colab.research.google.com/github/ranj10/Python_practice_od_d1/blob/main/Python_practice_od_w2d2.ipynb\" target=\"_parent\"><img src=\"https://colab.research.google.com/assets/colab-badge.svg\" alt=\"Open In Colab\"/></a>"
      ]
    },
    {
      "cell_type": "code",
      "execution_count": null,
      "metadata": {
        "colab": {
          "base_uri": "https://localhost:8080/"
        },
        "id": "G6scvLyY3DGm",
        "outputId": "28ac012c-9f05-41d3-c9c0-d50076822d83"
      },
      "outputs": [
        {
          "name": "stdout",
          "output_type": "stream",
          "text": [
            "1\n",
            "3\n",
            "5\n",
            "7\n",
            "9\n",
            "11\n",
            "13\n",
            "15\n",
            "17\n",
            "19\n"
          ]
        }
      ],
      "source": [
        "'''Day 2 - Task 1\n",
        "WAP to print first 10 odd numbers.'''\n",
        "j=20\n",
        "i=1\n",
        "while i<=j:\n",
        "  if i%2!=0:\n",
        "    print(i)\n",
        "  i=i+1\n"
      ]
    },
    {
      "cell_type": "code",
      "execution_count": null,
      "metadata": {
        "colab": {
          "base_uri": "https://localhost:8080/"
        },
        "id": "IxL0pIP83DJP",
        "outputId": "bca3b996-5c41-4c9a-d132-c15ee7ffea09"
      },
      "outputs": [
        {
          "name": "stdout",
          "output_type": "stream",
          "text": [
            "Enter your msg: hi\n",
            "You entered:hi\n",
            "Enter next msg (Enter STOP if no more messages are there): hvggguu\n",
            "You entered:hvggguu\n",
            "Enter next msg (Enter STOP if no more messages are there): gggggggucftd\n",
            "You entered:gggggggucftd\n",
            "Enter next msg (Enter STOP if no more messages are there): hvhjhgudd\n",
            "You entered:hvhjhgudd\n",
            "Enter next msg (Enter STOP if no more messages are there): STOP\n"
          ]
        }
      ],
      "source": [
        "'''Day 2 - Task 2\n",
        "WAP to print the messages entered by user, until user enters 'STOP'\n",
        "Sample Output\n",
        "Enter your msg:hi\n",
        " You entered: hi\n",
        " Enter next msg (Enter STOP if no more messages are there):how are you\n",
        " You entered: how are you\n",
        " Enter next msg (Enter STOP if no more messages are there):STOP'''\n",
        "stp=\"STOP\"\n",
        "str=input(\"Enter your msg: \")\n",
        "\n",
        "while str != stp:\n",
        "  print(\"You entered:{}\".format(str))\n",
        "  str=input(\"Enter next msg (Enter STOP if no more messages are there): \")\n",
        "\n"
      ]
    },
    {
      "cell_type": "code",
      "execution_count": null,
      "metadata": {
        "colab": {
          "base_uri": "https://localhost:8080/"
        },
        "id": "1666wU903DML",
        "outputId": "cdf401d1-bfea-4b09-b8e5-6560ae93000b"
      },
      "outputs": [
        {
          "output_type": "stream",
          "name": "stdout",
          "text": [
            "Enter a number to start the square series: 2\n",
            "Enter the number after/on which the squared values are not required: 100\n",
            "2 : 4\n",
            "3 : 9\n",
            "4 : 16\n",
            "5 : 25\n",
            "6 : 36\n",
            "7 : 49\n",
            "8 : 64\n",
            "9 : 81\n",
            "Thats all folks!!\n"
          ]
        }
      ],
      "source": [
        "'''Day 2 - Task 4\n",
        "WAP to print all the integers and their squares. User should provide\n",
        "The number to start the series from\n",
        "What should be the max value to stop (Squared value should not be more than the max value).\n",
        "Sample Output\n",
        "Enter a number to start the square series:21\n",
        " Enter the number after/on which the squared values are not required: 899\n",
        " 21 : 441\n",
        " 22 : 484\n",
        " 23 : 529\n",
        " 24 : 576\n",
        " 25 : 625\n",
        " 26 : 676\n",
        " 27 : 729\n",
        " 28 : 784\n",
        " 29 : 841\n",
        " Thats all folks!!\n",
        "Enter a number to start the square series:2\n",
        "Enter the number after/on which the squared values are not required: 100\n",
        " 2 : 4\n",
        " 3 : 9\n",
        " 4 : 16\n",
        " 5 : 25\n",
        " 6 : 36\n",
        " 7 : 49\n",
        " 8 : 64\n",
        " 9 : 81\n",
        " Thats all folks!!'''\n",
        "\n",
        "\n",
        "num=int(input(\"Enter a number to start the square series: \"))\n",
        "end=int(input(\"Enter the number after/on which the squared values are not required: \"))\n",
        "j=num\n",
        "while num**2 < end:\n",
        "  j=num**2\n",
        "  print(\"{} : {}\".format(num,j))\n",
        "  num=num+1\n",
        "\n",
        "\n",
        "print(\"Thats all folks!!\")\n",
        "\n"
      ]
    },
    {
      "cell_type": "code",
      "execution_count": null,
      "metadata": {
        "id": "iBYf5ReI3DPJ",
        "colab": {
          "base_uri": "https://localhost:8080/",
          "height": 262
        },
        "outputId": "7d31b848-fc00-47ec-a770-4cb04bc00b9b"
      },
      "outputs": [
        {
          "name": "stdout",
          "output_type": "stream",
          "text": [
            "Enter a number to start the square series: racecar\n"
          ]
        },
        {
          "output_type": "error",
          "ename": "TypeError",
          "evalue": "ignored",
          "traceback": [
            "\u001b[0;31m---------------------------------------------------------------------------\u001b[0m",
            "\u001b[0;31mTypeError\u001b[0m                                 Traceback (most recent call last)",
            "\u001b[0;32m<ipython-input-14-45f7d3bd7248>\u001b[0m in \u001b[0;36m<cell line: 13>\u001b[0;34m()\u001b[0m\n\u001b[1;32m     11\u001b[0m \u001b[0mval1\u001b[0m\u001b[0;34m=\u001b[0m\u001b[0mlist\u001b[0m\u001b[0;34m(\u001b[0m\u001b[0mval\u001b[0m\u001b[0;34m)\u001b[0m\u001b[0;34m\u001b[0m\u001b[0;34m\u001b[0m\u001b[0m\n\u001b[1;32m     12\u001b[0m \u001b[0mval2\u001b[0m\u001b[0;34m=\u001b[0m\u001b[0;34m[\u001b[0m\u001b[0;34m]\u001b[0m\u001b[0;34m\u001b[0m\u001b[0;34m\u001b[0m\u001b[0m\n\u001b[0;32m---> 13\u001b[0;31m \u001b[0;32mfor\u001b[0m \u001b[0mi\u001b[0m \u001b[0;32min\u001b[0m \u001b[0mrange\u001b[0m\u001b[0;34m(\u001b[0m\u001b[0mval\u001b[0m\u001b[0;34m[\u001b[0m\u001b[0;34m:\u001b[0m\u001b[0;34m:\u001b[0m\u001b[0;34m-\u001b[0m\u001b[0;36m1\u001b[0m\u001b[0;34m]\u001b[0m\u001b[0;34m)\u001b[0m\u001b[0;34m:\u001b[0m\u001b[0;34m\u001b[0m\u001b[0;34m\u001b[0m\u001b[0m\n\u001b[0m\u001b[1;32m     14\u001b[0m   \u001b[0mval2\u001b[0m\u001b[0;34m.\u001b[0m\u001b[0mappend\u001b[0m\u001b[0;34m(\u001b[0m\u001b[0mi\u001b[0m\u001b[0;34m)\u001b[0m\u001b[0;34m\u001b[0m\u001b[0;34m\u001b[0m\u001b[0m\n\u001b[1;32m     15\u001b[0m \u001b[0;34m\u001b[0m\u001b[0m\n",
            "\u001b[0;31mTypeError\u001b[0m: 'str' object cannot be interpreted as an integer"
          ]
        }
      ],
      "source": [
        "'''Day 2 - Task 5\n",
        "WAP to check whether a string entered by user is palindrome or not.\n",
        "Sample Output\n",
        "Enter your string/number for palindrome check:plain\n",
        " Entered value is not a palindrome\n",
        "Enter your string/number for palindrome check:racecar\n",
        " Entered value is a palindrome\n",
        "Enter your string/number for palindrome check:123321\n",
        " Entered value is a palindrome'''\n",
        "val=input(\"Enter a number to start the square series: \")\n",
        "val1=list(val)\n",
        "val2=[]\n",
        "for i in range(len(val)):\n",
        "  val2.append(val)\n",
        "\n",
        "if val2==val:\n",
        "  print(\"Entered value is a palindrome\")\n",
        "else:\n",
        "  print(\"Entered value is not a palindrome\")\n",
        "\n",
        "\n"
      ]
    },
    {
      "cell_type": "code",
      "execution_count": null,
      "metadata": {
        "id": "H56D6luS3DR7",
        "colab": {
          "base_uri": "https://localhost:8080/"
        },
        "outputId": "c8463d1c-0355-462c-9bc2-83c0baf2cf8e"
      },
      "outputs": [
        {
          "output_type": "stream",
          "name": "stdout",
          "text": [
            "Enter a number to start the square series: 1234321\n",
            "Entered value is a palindrome\n"
          ]
        }
      ],
      "source": [
        "val=input(\"Enter a number to start the square series: \")\n",
        "\n",
        "val2 = list(reversed(val))\n",
        "\n",
        "if val2 == list(val):\n",
        "  print(\"Entered value is a palindrome\")\n",
        "else:\n",
        "  print(\"Entered value is not a palindrome\")"
      ]
    },
    {
      "cell_type": "code",
      "execution_count": null,
      "metadata": {
        "id": "DVYaIMoa3DUg",
        "colab": {
          "base_uri": "https://localhost:8080/"
        },
        "outputId": "f2e7f70f-fb0d-456a-8da3-da17d2ee9fc2"
      },
      "outputs": [
        {
          "output_type": "stream",
          "name": "stdout",
          "text": [
            "Enter your message: my name is ranjana\n",
            "My Name Is anajnar\n"
          ]
        }
      ],
      "source": [
        "'''Day 2 - Task 6\n",
        "WAP to prompt user to enter a sentence and encode the sentence as per below conditions:\n",
        "if word is at an odd position: reverse the word if word is at an even position: Captalize the first letter of the word\n",
        "Print the encoded message.\n",
        "Sample Output\n",
        "Enter your message:hi how are you\n",
        " The encoded message is: Hi woh Are uoy'''\n",
        "\n",
        "sen=input(\"Enter your message: \")\n",
        "nsen=[]\n",
        "splt=sen.split()\n",
        "\n",
        "\n",
        "for i in splt:\n",
        "  l=len(i)\n",
        "  if l%2==0:\n",
        "    nsen.append(i.title())\n",
        "  else:\n",
        "    nsen.append(\"\".join(reversed(i)))\n",
        "result=' '.join(nsen)\n",
        "print(result)\n"
      ]
    },
    {
      "cell_type": "code",
      "execution_count": null,
      "metadata": {
        "id": "wOMiBb9D3DW_",
        "colab": {
          "base_uri": "https://localhost:8080/"
        },
        "outputId": "8713657f-35a3-4d06-89b3-c36af94c1e43"
      },
      "outputs": [
        {
          "output_type": "stream",
          "name": "stdout",
          "text": [
            "Enter a number : 123\n",
            "123 is not an armstrong number\n"
          ]
        }
      ],
      "source": [
        "'''Day 2 - Task 7\n",
        "WAP to check whether a number is armstrong number or not.\n",
        "A number of 'n' number of digits is called as armstrong number if, sum of its every digit to the power of 'n' is equal to the actual number.\n",
        "Eg:\n",
        "num=153\n",
        "n=3 (number of digits)\n",
        "pow(1,n)+pow(5,n)+pow(3,n)=1+125+27=153\n",
        "You can import pow from math package\n",
        "Sample Output\n",
        "Enter the number1634\n",
        " 1634 is an armstrong number\n",
        "Enter the number123\n",
        " 123 is not an armstrong number'''\n",
        "\n",
        "\n",
        "nm=int(input(\"Enter a number : \"))\n",
        "\n",
        "sum=0\n",
        "str_nm=str(nm)\n",
        "j=len(str_nm)\n",
        "\n",
        "for i in str_nm:\n",
        "  digit=int(i)\n",
        "  sum=sum+(digit**j)\n",
        "\n",
        "if sum==nm:\n",
        "  print(\"{} is an armstrong number\".format(nm))\n",
        "else:\n",
        "  print(\"{} is not an armstrong number\".format(nm))\n",
        "\n",
        "\n",
        "\n"
      ]
    },
    {
      "cell_type": "code",
      "execution_count": null,
      "metadata": {
        "id": "R57Kzb-o3DZm",
        "colab": {
          "base_uri": "https://localhost:8080/"
        },
        "outputId": "4d628586-6319-48fb-ba6b-de920116147e"
      },
      "outputs": [
        {
          "output_type": "stream",
          "name": "stdout",
          "text": [
            "Enter a number : 5\n",
            "[0, 1, 1, 2, 3]\n"
          ]
        }
      ],
      "source": [
        "'''Day 2 - Task 8\n",
        "WAP to print the first n elements of fibbonacci series, store it in a list. n is the input from user.\n",
        "\n",
        "Sample Output\n",
        "\n",
        "How many elements of fibbonacci series do you want: 5\n",
        " [0, 1, 1, 2, 3]\n",
        "How many elements of fibbonacci series do you want: 2\n",
        " [0, 1]\n",
        "use the below code to generate next item and append to list\n",
        " l1=[0,1] #initialize the list\n",
        " l1.append(l1[-1]+l1[-2]) #Append to list'''\n",
        "\n",
        "fs=int(input(\"Enter a number : \"))\n",
        "sum=0\n",
        "result=[]\n",
        "f=0\n",
        "n=1\n",
        "\n",
        "for i in range(0,fs):\n",
        "  result.append(f)\n",
        "  f=sum+n\n",
        "  n=sum\n",
        "  sum=f\n",
        "\n",
        "print(result)\n",
        "\n",
        "#FINALLY I DID IT BY MY OWN WAY.YIPEEEEEEEE"
      ]
    },
    {
      "cell_type": "code",
      "execution_count": null,
      "metadata": {
        "id": "Di0MP37-3Dbr",
        "colab": {
          "base_uri": "https://localhost:8080/"
        },
        "outputId": "9806bfd8-ef7f-42fc-da38-6656c78f37a7"
      },
      "outputs": [
        {
          "output_type": "stream",
          "name": "stdout",
          "text": [
            "\n",
            "\n",
            "* \n",
            "\n",
            "* * \n",
            "\n",
            "* * * \n",
            "\n",
            "* * * * \n",
            "\n",
            "* * * * * \n",
            "\n"
          ]
        }
      ],
      "source": [
        "'''Day 2 - Task 9\n",
        "Now, since we are aware of how to use loops, nested loops . Let us try to print the below pattern in output\n",
        "\n",
        "a)\n",
        "\n",
        " *\n",
        " **\n",
        " ***\n",
        " ****\n",
        " *****\n",
        "b)\n",
        "\n",
        " *****\n",
        " ****\n",
        " ***\n",
        " **\n",
        " *'''\n",
        "for i in range(0,6):\n",
        "  for j in range(0,i):\n",
        "    print(\"*\",end=\" \")\n",
        "  print(\"\\n\")"
      ]
    },
    {
      "cell_type": "code",
      "source": [
        "j=5\n",
        "while j>0:\n",
        "  i=0\n",
        "  while i < j:\n",
        "      print(\"*\",end=\" \")\n",
        "      i=i+1\n",
        "  print(\"\\n\")\n",
        "  j=j-1\n",
        "\n"
      ],
      "metadata": {
        "colab": {
          "base_uri": "https://localhost:8080/"
        },
        "id": "7w1vxBICfdFb",
        "outputId": "f41a853d-2ba8-46b2-95c2-7941051f433a"
      },
      "execution_count": null,
      "outputs": [
        {
          "output_type": "stream",
          "name": "stdout",
          "text": [
            "* * * * * \n",
            "\n",
            "* * * * \n",
            "\n",
            "* * * \n",
            "\n",
            "* * \n",
            "\n",
            "* \n",
            "\n"
          ]
        }
      ]
    },
    {
      "cell_type": "code",
      "execution_count": null,
      "metadata": {
        "id": "GR4wxyQx3Dd4",
        "colab": {
          "base_uri": "https://localhost:8080/"
        },
        "outputId": "5f3a678e-4c4c-4e8e-c8b6-7ab3747ea8ba"
      },
      "outputs": [
        {
          "output_type": "stream",
          "name": "stdout",
          "text": [
            "How many lines you want 7\n",
            "\n",
            "\n",
            "1 \n",
            "\n",
            "2 3 \n",
            "\n",
            "4 5 6 \n",
            "\n",
            "7 8 9 10 \n",
            "\n",
            "11 12 13 14 15 \n",
            "\n",
            "16 17 18 19 20 21 \n",
            "\n",
            "22 23 24 25 26 27 28 \n",
            "\n"
          ]
        }
      ],
      "source": [
        "'''Day 2 - Task 10\n",
        "WAP to prompt user to input a number, and print the number in a those many number of lines starting from 1number in first lines, next 2 numbers in 2nd line and so on.\n",
        "Example\n",
        "How many lines you want:5\n",
        "\n",
        " 1\n",
        " 2 3\n",
        " 4 5 6\n",
        " 7 8 9 10\n",
        " 11 12 13 14 15\n",
        "How many lines you want:3\n",
        " 1\n",
        " 2 3\n",
        " 4 5 6'''\n",
        "\n",
        "s=0\n",
        "num=int(input(\"How many lines you want \"))\n",
        "\n",
        "for i in range(0,num+1):\n",
        "  for j in range(0,i):\n",
        "    s=s+1\n",
        "    print(s,end=' ')\n",
        "  print(\"\\n\")\n",
        "\n",
        "#yipeeeeee I am too good."
      ]
    },
    {
      "cell_type": "code",
      "execution_count": null,
      "metadata": {
        "id": "EaS66Yb83DgZ"
      },
      "outputs": [],
      "source": []
    },
    {
      "cell_type": "code",
      "execution_count": null,
      "metadata": {
        "id": "Qw0BQY2p3Dj4"
      },
      "outputs": [],
      "source": []
    }
  ],
  "metadata": {
    "colab": {
      "provenance": [],
      "include_colab_link": true
    },
    "kernelspec": {
      "display_name": "Python 3",
      "name": "python3"
    },
    "language_info": {
      "name": "python"
    }
  },
  "nbformat": 4,
  "nbformat_minor": 0
}
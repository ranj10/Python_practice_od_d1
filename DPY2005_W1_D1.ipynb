{
  "nbformat": 4,
  "nbformat_minor": 0,
  "metadata": {
    "colab": {
      "provenance": [],
      "include_colab_link": true
    },
    "kernelspec": {
      "name": "python3",
      "display_name": "Python 3"
    },
    "language_info": {
      "name": "python"
    }
  },
  "cells": [
    {
      "cell_type": "markdown",
      "metadata": {
        "id": "view-in-github",
        "colab_type": "text"
      },
      "source": [
        "<a href=\"https://colab.research.google.com/github/ranj10/Python_practice_od_d1/blob/main/DPY2005_W1_D1.ipynb\" target=\"_parent\"><img src=\"https://colab.research.google.com/assets/colab-badge.svg\" alt=\"Open In Colab\"/></a>"
      ]
    },
    {
      "cell_type": "markdown",
      "source": [
        "# Recursion\n",
        "\n",
        "- In computer science, recursion is a method of solving a computational problem where the solution depends on solutions to smaller instances of the same problem.\n",
        "\n",
        "- Recursion solves such recursive problems by using functions that call themselves from within their own code.\n",
        "\n",
        "\n",
        "##Python Recursive Function\n",
        "- A function can call other functions.\n",
        "\n",
        "- Also possible for the function to call itself. Such functions are called recursive functions.\n",
        "```\n",
        "Syntax: def functionName:\n",
        "              \n",
        "              Base case statement\n",
        "\n",
        "              Statement 1\n",
        "              Statement 2\n",
        "\n",
        "                  .\n",
        "                  .\n",
        "              functionName()\n",
        "                   .\n",
        "                   .\n",
        "```"
      ],
      "metadata": {
        "id": "bkfTgcG6RxYT"
      }
    },
    {
      "cell_type": "markdown",
      "source": [
        "## Recursion == Loops\n",
        "* Base case\n",
        "* Stack overflow"
      ],
      "metadata": {
        "id": "Wr_q-4Z9_iRy"
      }
    },
    {
      "cell_type": "code",
      "source": [
        "for i in range(1, 6):\n",
        "  print(i)"
      ],
      "metadata": {
        "colab": {
          "base_uri": "https://localhost:8080/"
        },
        "id": "XA5TczSHegP_",
        "outputId": "bcd2eff3-8f85-424f-fd16-ba695b9bba86"
      },
      "execution_count": null,
      "outputs": [
        {
          "output_type": "stream",
          "name": "stdout",
          "text": [
            "1\n",
            "2\n",
            "3\n",
            "4\n",
            "5\n"
          ]
        }
      ]
    },
    {
      "cell_type": "code",
      "source": [
        "# Simple example: Print numbers\n",
        "\n",
        "def print_num(number):\n",
        "\n",
        "  print(number)\n",
        "\n",
        "  if number == 5:\n",
        "    return\n",
        "\n",
        "  return print_num(number + 1)"
      ],
      "metadata": {
        "id": "mDQ-sYjz-3Ik"
      },
      "execution_count": null,
      "outputs": []
    },
    {
      "cell_type": "code",
      "source": [
        "print_num(1)"
      ],
      "metadata": {
        "id": "uXvHQMONi5jL",
        "colab": {
          "base_uri": "https://localhost:8080/"
        },
        "outputId": "64bab283-fef3-4b14-ec9e-031481d54cb5"
      },
      "execution_count": null,
      "outputs": [
        {
          "output_type": "stream",
          "name": "stdout",
          "text": [
            "1\n",
            "2\n",
            "3\n",
            "4\n",
            "5\n"
          ]
        }
      ]
    },
    {
      "cell_type": "code",
      "source": [
        "# Example of stack overflow\n",
        "\n",
        "def print_num(number):\n",
        "\n",
        "  print(number)\n",
        "\n",
        "  return print_num(number + 1)"
      ],
      "metadata": {
        "id": "8GC3YpO1_tzN"
      },
      "execution_count": null,
      "outputs": []
    },
    {
      "cell_type": "code",
      "source": [
        "print_num(1)"
      ],
      "metadata": {
        "id": "rX8e4KccfZrJ"
      },
      "execution_count": null,
      "outputs": []
    },
    {
      "cell_type": "markdown",
      "source": [
        "## Practice problems\n",
        "1. Find the sum of n natural numbers using Recursion\n",
        "2. Find the factorial of a given number using Recursion"
      ],
      "metadata": {
        "id": "SRCHCuS0AL0H"
      }
    },
    {
      "cell_type": "code",
      "source": [
        "summ = 0\n",
        "\n",
        "for i in range(1, 11):\n",
        "  summ += i\n",
        "\n",
        "print(summ)"
      ],
      "metadata": {
        "colab": {
          "base_uri": "https://localhost:8080/"
        },
        "id": "fC2knGU6f09l",
        "outputId": "f775c05b-2f1a-4907-9724-74b5f8a22763"
      },
      "execution_count": null,
      "outputs": [
        {
          "output_type": "stream",
          "name": "stdout",
          "text": [
            "55\n"
          ]
        }
      ]
    },
    {
      "cell_type": "code",
      "source": [
        "# Solutions\n",
        "\n",
        "def summ(number):\n",
        "\n",
        "  if number == 1:\n",
        "    return number\n",
        "\n",
        "  return number + summ(number - 1) # 10 + 9 + 8 + 7 ....... + 1"
      ],
      "metadata": {
        "id": "YEpJSM7MAKst"
      },
      "execution_count": null,
      "outputs": []
    },
    {
      "cell_type": "code",
      "source": [
        "def summ(number, result = 0):\n",
        "\n",
        "    if number == 1:\n",
        "      return result + number\n",
        "\n",
        "    return summ(number - 1, result + number) # (9, 10) (8, 19) (7, 27) ......  (1, 54)"
      ],
      "metadata": {
        "id": "fzC048mzhkPC"
      },
      "execution_count": null,
      "outputs": []
    },
    {
      "cell_type": "code",
      "source": [
        "summ(10)"
      ],
      "metadata": {
        "colab": {
          "base_uri": "https://localhost:8080/"
        },
        "id": "GRQvw3Q6jks9",
        "outputId": "6da1caf4-5a0d-4f98-d479-964892e20bea"
      },
      "execution_count": null,
      "outputs": [
        {
          "output_type": "execute_result",
          "data": {
            "text/plain": [
              "55"
            ]
          },
          "metadata": {},
          "execution_count": 7
        }
      ]
    },
    {
      "cell_type": "code",
      "source": [
        "def factorial(number, fac = 1):\n",
        "\n",
        "  if number == 1:\n",
        "    return fac\n",
        "\n",
        "  print(\"number\", number)\n",
        "  print(\"fac\", fac)\n",
        "\n",
        "  return factorial(number-1, number*fac)"
      ],
      "metadata": {
        "id": "6sVmre4_jm5V"
      },
      "execution_count": null,
      "outputs": []
    },
    {
      "cell_type": "code",
      "source": [
        "factorial(5)"
      ],
      "metadata": {
        "colab": {
          "base_uri": "https://localhost:8080/"
        },
        "id": "OaTHtlwyj1t0",
        "outputId": "bcf332d5-3035-4ccc-ff5d-e949cb59f5cc"
      },
      "execution_count": null,
      "outputs": [
        {
          "output_type": "stream",
          "name": "stdout",
          "text": [
            "number 5\n",
            "fac 1\n",
            "number 4\n",
            "fac 5\n",
            "number 3\n",
            "fac 20\n",
            "number 2\n",
            "fac 60\n"
          ]
        },
        {
          "output_type": "execute_result",
          "data": {
            "text/plain": [
              "120"
            ]
          },
          "metadata": {},
          "execution_count": 9
        }
      ]
    },
    {
      "cell_type": "code",
      "source": [
        "# Find the sum of elements in a list\n",
        "a = [1, 2, 3, 4, 5]\n",
        "\n",
        "def summ(index = 0, result = 0):\n",
        "\n",
        "  if index == len(a):\n",
        "    return result\n",
        "\n",
        "  return summ(index+1, result + a[index]) # (1, 1) (2, 3)   (5, 15)\n"
      ],
      "metadata": {
        "id": "X9oOVpJGkzmC"
      },
      "execution_count": null,
      "outputs": []
    },
    {
      "cell_type": "code",
      "source": [
        "summ()"
      ],
      "metadata": {
        "colab": {
          "base_uri": "https://localhost:8080/"
        },
        "id": "ftndAzsvl33e",
        "outputId": "4e71d2b2-1e56-49a9-fa54-72c26fb87abb"
      },
      "execution_count": null,
      "outputs": [
        {
          "output_type": "execute_result",
          "data": {
            "text/plain": [
              "15"
            ]
          },
          "metadata": {},
          "execution_count": 17
        }
      ]
    },
    {
      "cell_type": "code",
      "source": [
        "# Find the sum of even numbers between 50 and 100\n",
        "\n",
        "def summ(number = 50, result = 0):\n",
        "\n",
        "  print(number)\n",
        "\n",
        "  if number == 61:\n",
        "    return result\n",
        "\n",
        "  if number % 2 == 0:\n",
        "    print(\"even number\", number)\n",
        "    result += number\n",
        "\n",
        "  return summ(number+1, result)\n"
      ],
      "metadata": {
        "id": "Mk6ST0QGn_Wb"
      },
      "execution_count": null,
      "outputs": []
    },
    {
      "cell_type": "code",
      "source": [
        "summ()"
      ],
      "metadata": {
        "colab": {
          "base_uri": "https://localhost:8080/"
        },
        "id": "-Ky4icYUp_vE",
        "outputId": "02f89906-ec4f-41e8-dee5-a2d48779af90"
      },
      "execution_count": null,
      "outputs": [
        {
          "output_type": "stream",
          "name": "stdout",
          "text": [
            "50\n",
            "even number 50\n",
            "51\n",
            "52\n",
            "even number 52\n",
            "53\n",
            "54\n",
            "even number 54\n",
            "55\n",
            "56\n",
            "even number 56\n",
            "57\n",
            "58\n",
            "even number 58\n",
            "59\n",
            "60\n",
            "even number 60\n",
            "61\n"
          ]
        },
        {
          "output_type": "execute_result",
          "data": {
            "text/plain": [
              "330"
            ]
          },
          "metadata": {},
          "execution_count": 19
        }
      ]
    },
    {
      "cell_type": "code",
      "source": [
        "# Quadtree\n",
        "Square -> 4 equal squares"
      ],
      "metadata": {
        "id": "BnuCzB0KoZ_l"
      },
      "execution_count": null,
      "outputs": []
    },
    {
      "cell_type": "code",
      "source": [
        "rev = \"\"\n",
        "for i in \"racecar\":\n",
        "  print(\"i\", i)\n",
        "  rev = rev + i\n",
        "  print(\"rev\", rev)"
      ],
      "metadata": {
        "colab": {
          "base_uri": "https://localhost:8080/"
        },
        "id": "WLZmgxLxvtmn",
        "outputId": "15896481-d51d-4066-cf3a-91f6a003df84"
      },
      "execution_count": null,
      "outputs": [
        {
          "output_type": "stream",
          "name": "stdout",
          "text": [
            "i r\n",
            "rev r\n",
            "i a\n",
            "rev ra\n",
            "i c\n",
            "rev rac\n",
            "i e\n",
            "rev race\n",
            "i c\n",
            "rev racec\n",
            "i a\n",
            "rev raceca\n",
            "i r\n",
            "rev racecar\n"
          ]
        }
      ]
    },
    {
      "cell_type": "code",
      "source": [
        "# Check whether a number/string is palindrome or not\n",
        "string = \"racecar\"\n",
        "def ispalin(index = 0, rev = \"\"):\n",
        "\n",
        "  if index == len(string):\n",
        "    if rev == string:\n",
        "      return True\n",
        "    else:\n",
        "      return False\n",
        "\n",
        "  return ispalin(index+1, string[index] + rev)"
      ],
      "metadata": {
        "id": "OMow81V2saPt"
      },
      "execution_count": null,
      "outputs": []
    },
    {
      "cell_type": "code",
      "source": [
        "ispalin()"
      ],
      "metadata": {
        "colab": {
          "base_uri": "https://localhost:8080/"
        },
        "id": "vovTQdbwvHHm",
        "outputId": "f9858452-d8c5-4508-817c-25247508d8d0"
      },
      "execution_count": null,
      "outputs": [
        {
          "output_type": "execute_result",
          "data": {
            "text/plain": [
              "True"
            ]
          },
          "metadata": {},
          "execution_count": 34
        }
      ]
    },
    {
      "cell_type": "markdown",
      "source": [
        "## Solve the problems using Recursion\n",
        "1. Find the nth term in the fibonacci series.\n",
        "2. Find the sum of elements in a list\n",
        "3. Find the sum of digits in a given number\n",
        "4. Check whether a number/string is palindrome or not\n",
        "5. Find the sum of even numbers between 50 and 100\n",
        "6. Check whether a number is prime or not."
      ],
      "metadata": {
        "id": "GfHDl262A5H8"
      }
    },
    {
      "cell_type": "code",
      "source": [
        "def fibo(number):\n",
        "  if number == 1:\n",
        "    return 0\n",
        "  if number == 2:\n",
        "    return 1\n",
        "\n",
        "  return fibo(number-1) + fibo(number-2)"
      ],
      "metadata": {
        "id": "ms5YfQQyj8I4"
      },
      "execution_count": null,
      "outputs": []
    },
    {
      "cell_type": "code",
      "source": [
        "fibo(6)"
      ],
      "metadata": {
        "colab": {
          "base_uri": "https://localhost:8080/"
        },
        "id": "D924baS0kRg3",
        "outputId": "3b169dd0-028f-4793-87cb-0e766ba436e3"
      },
      "execution_count": null,
      "outputs": [
        {
          "output_type": "execute_result",
          "data": {
            "text/plain": [
              "5"
            ]
          },
          "metadata": {},
          "execution_count": 12
        }
      ]
    },
    {
      "cell_type": "code",
      "source": [
        "def fibo(number, a = 0, b = 1):\n",
        "  if number == 1:\n",
        "    return a\n",
        "  if number == 2:\n",
        "    return b\n",
        "\n",
        "\n",
        "  return fibo(number-1, b, a + b)\n"
      ],
      "metadata": {
        "id": "1VuuxRtdkYgV"
      },
      "execution_count": null,
      "outputs": []
    },
    {
      "cell_type": "code",
      "source": [
        "fibo(6)"
      ],
      "metadata": {
        "colab": {
          "base_uri": "https://localhost:8080/"
        },
        "id": "En0FoZsXlQxG",
        "outputId": "689d0e58-e6d0-448f-954d-37056575a4e4"
      },
      "execution_count": null,
      "outputs": [
        {
          "output_type": "execute_result",
          "data": {
            "text/plain": [
              "5"
            ]
          },
          "metadata": {},
          "execution_count": 16
        }
      ]
    },
    {
      "cell_type": "code",
      "source": [
        "a = [1, 2, 3, 4, 5, 6]\n",
        "def summ(n = 0):\n",
        "  if n == len(a) - 1:\n",
        "    return a[n]\n",
        "\n",
        "  return a[n] + summ(n+1)"
      ],
      "metadata": {
        "id": "B4UqMrYglaEj"
      },
      "execution_count": null,
      "outputs": []
    },
    {
      "cell_type": "code",
      "source": [
        "summ()"
      ],
      "metadata": {
        "colab": {
          "base_uri": "https://localhost:8080/"
        },
        "id": "ADG6HKLKl6C3",
        "outputId": "6eb18dce-711c-47cd-82a0-bbf28139d311"
      },
      "execution_count": null,
      "outputs": [
        {
          "output_type": "execute_result",
          "data": {
            "text/plain": [
              "21"
            ]
          },
          "metadata": {},
          "execution_count": 20
        }
      ]
    },
    {
      "cell_type": "code",
      "source": [
        "number = \"3456\"\n",
        "\n",
        "def summ(n=0):\n",
        "  if n == len(number)-1:\n",
        "    return int(number[n])\n",
        "\n",
        "  return int(number[n]) + summ(n+1)"
      ],
      "metadata": {
        "id": "Asij-BXemB12"
      },
      "execution_count": null,
      "outputs": []
    },
    {
      "cell_type": "code",
      "source": [
        "summ()"
      ],
      "metadata": {
        "colab": {
          "base_uri": "https://localhost:8080/"
        },
        "id": "BRniUCOtmfGU",
        "outputId": "5f0a6cfd-47d7-4f28-f45d-d709197349ef"
      },
      "execution_count": null,
      "outputs": [
        {
          "output_type": "execute_result",
          "data": {
            "text/plain": [
              "18"
            ]
          },
          "metadata": {},
          "execution_count": 24
        }
      ]
    },
    {
      "cell_type": "code",
      "source": [
        "def ispalin(number,a = 0, res = \"\"):\n",
        "  if a == len(number):\n",
        "    if res == number:\n",
        "      return True\n",
        "    else:\n",
        "      return False\n",
        "\n",
        "  return ispalin(number, a+1, number[a]+res)"
      ],
      "metadata": {
        "id": "-vCmLbDumvJR"
      },
      "execution_count": null,
      "outputs": []
    },
    {
      "cell_type": "code",
      "source": [
        "ispalin(\"454\")"
      ],
      "metadata": {
        "colab": {
          "base_uri": "https://localhost:8080/"
        },
        "id": "TNs-03VPnsX_",
        "outputId": "8d8cc004-a872-4518-be9f-f2f7c40d0aad"
      },
      "execution_count": null,
      "outputs": [
        {
          "output_type": "execute_result",
          "data": {
            "text/plain": [
              "True"
            ]
          },
          "metadata": {},
          "execution_count": 31
        }
      ]
    },
    {
      "cell_type": "code",
      "source": [
        "def geteven(n, upper, result = 0):\n",
        "  if n == upper:\n",
        "    return result\n",
        "  if n % 2 == 0:\n",
        "    result += n\n",
        "  return geteven(n+1, upper, result)"
      ],
      "metadata": {
        "id": "36L8SB0Yn74s"
      },
      "execution_count": null,
      "outputs": []
    },
    {
      "cell_type": "code",
      "source": [
        "geteven(50, 101)"
      ],
      "metadata": {
        "colab": {
          "base_uri": "https://localhost:8080/"
        },
        "id": "Iqgvr1cFoMFc",
        "outputId": "f5b29733-447f-4eec-ed29-1daac99dd45c"
      },
      "execution_count": null,
      "outputs": [
        {
          "output_type": "execute_result",
          "data": {
            "text/plain": [
              "1950"
            ]
          },
          "metadata": {},
          "execution_count": 46
        }
      ]
    },
    {
      "cell_type": "code",
      "source": [
        "def isprime(number, a = 2, res = True):\n",
        "  if a == number - 1:\n",
        "    return res\n",
        "\n",
        "  if number % a == 0:\n",
        "    res = False\n",
        "    return res\n",
        "\n",
        "  return isprime(number, a+1, res)\n",
        ""
      ],
      "metadata": {
        "id": "oExnIZ3io6GC"
      },
      "execution_count": null,
      "outputs": []
    },
    {
      "cell_type": "code",
      "source": [
        "isprime(27)"
      ],
      "metadata": {
        "colab": {
          "base_uri": "https://localhost:8080/"
        },
        "id": "sEJCRdDHp4fo",
        "outputId": "1e648454-21e7-40bf-e6c0-b33471652a6c"
      },
      "execution_count": null,
      "outputs": [
        {
          "output_type": "execute_result",
          "data": {
            "text/plain": [
              "False"
            ]
          },
          "metadata": {},
          "execution_count": 57
        }
      ]
    },
    {
      "cell_type": "code",
      "source": [
        "# Recursion is very very slow than loops\n",
        "# Greedy algorithms, sort,\n",
        "# There are many problems which are recursive -> Its very difficult using loops;\n",
        "# Recursion is simple in code"
      ],
      "metadata": {
        "id": "wEqKzez-x3yJ"
      },
      "execution_count": null,
      "outputs": []
    },
    {
      "cell_type": "markdown",
      "source": [
        "# Lambda functions\n",
        "* known as anonymous function as defined without name\n",
        "* can accept any number of arguments"
      ],
      "metadata": {
        "id": "EG-xCLTZBpQR"
      }
    },
    {
      "cell_type": "markdown",
      "metadata": {
        "id": "d5b29d5d"
      },
      "source": [
        "### Syntax\n",
        "\n",
        "**lambda** arguments: expression"
      ]
    },
    {
      "cell_type": "code",
      "source": [
        "lambda x: x + 5"
      ],
      "metadata": {
        "id": "vJgSyXkLzaIU"
      },
      "execution_count": null,
      "outputs": []
    },
    {
      "cell_type": "code",
      "source": [
        "# Example: Increment age by 5\n",
        "\n",
        "a = lambda x: x+5"
      ],
      "metadata": {
        "id": "635tAGZEB9_h"
      },
      "execution_count": null,
      "outputs": []
    },
    {
      "cell_type": "code",
      "source": [
        "a(10)"
      ],
      "metadata": {
        "colab": {
          "base_uri": "https://localhost:8080/"
        },
        "id": "QhtCspPYqiTb",
        "outputId": "ffb9131f-b8fc-4afb-a053-0eccf316071c"
      },
      "execution_count": null,
      "outputs": [
        {
          "output_type": "execute_result",
          "data": {
            "text/plain": [
              "15"
            ]
          },
          "metadata": {},
          "execution_count": 39
        }
      ]
    },
    {
      "cell_type": "code",
      "source": [
        "def iseven(number):\n",
        "  if number % 2 == 0:\n",
        "    return True\n",
        "  else:\n",
        "    return False"
      ],
      "metadata": {
        "id": "p4yKOhAl0D6E"
      },
      "execution_count": null,
      "outputs": []
    },
    {
      "cell_type": "code",
      "source": [
        "# Example: Check whether even or odd\n",
        "\n",
        "a = lambda number: (cond = True) if cond else (cond = False)"
      ],
      "metadata": {
        "id": "kgWpLe-yCy12"
      },
      "execution_count": null,
      "outputs": []
    },
    {
      "cell_type": "code",
      "source": [
        "a(4)"
      ],
      "metadata": {
        "colab": {
          "base_uri": "https://localhost:8080/"
        },
        "id": "iSep3rLRq3y4",
        "outputId": "0ca2a315-fbfb-4fa2-a9a0-952ea6a8273d"
      },
      "execution_count": null,
      "outputs": [
        {
          "output_type": "execute_result",
          "data": {
            "text/plain": [
              "True"
            ]
          },
          "metadata": {},
          "execution_count": 63
        }
      ]
    },
    {
      "cell_type": "code",
      "source": [
        "def avg(x,y):\n",
        "  return (x+y) / 2"
      ],
      "metadata": {
        "id": "H0U0vDvn0mIe"
      },
      "execution_count": null,
      "outputs": []
    },
    {
      "cell_type": "code",
      "source": [
        "a = lambda x,y, z, q = 10: (x+y+z) / 3"
      ],
      "metadata": {
        "id": "2-UXR-xN0ctW"
      },
      "execution_count": null,
      "outputs": []
    },
    {
      "cell_type": "code",
      "source": [
        "a(3, 5)"
      ],
      "metadata": {
        "colab": {
          "base_uri": "https://localhost:8080/"
        },
        "id": "8p8lch1r1un5",
        "outputId": "8db905da-fbf8-46f1-8687-60e33d3ab8b1"
      },
      "execution_count": null,
      "outputs": [
        {
          "output_type": "execute_result",
          "data": {
            "text/plain": [
              "4.0"
            ]
          },
          "metadata": {},
          "execution_count": 43
        }
      ]
    },
    {
      "cell_type": "code",
      "source": [
        "x = [1, 2, 3, 4, 5]\n",
        "\n",
        "a = lambda x1: sum(x1)"
      ],
      "metadata": {
        "id": "i_vZq27R0xu_"
      },
      "execution_count": null,
      "outputs": []
    },
    {
      "cell_type": "code",
      "source": [
        "a(x)"
      ],
      "metadata": {
        "colab": {
          "base_uri": "https://localhost:8080/"
        },
        "id": "Nn_y8aeM0-NK",
        "outputId": "68f6d1e7-ce4b-4241-f17e-5b3f9d01bd6c"
      },
      "execution_count": null,
      "outputs": [
        {
          "output_type": "execute_result",
          "data": {
            "text/plain": [
              "15"
            ]
          },
          "metadata": {},
          "execution_count": 41
        }
      ]
    },
    {
      "cell_type": "markdown",
      "source": [
        "# Higher Order functions\n",
        "* Removes the explicit code for **Loops**\n",
        "1. Map\n",
        "2. Reduce\n",
        "3. Filter"
      ],
      "metadata": {
        "id": "VY4Bsrm_C4GR"
      }
    },
    {
      "cell_type": "markdown",
      "source": [
        "## Map: Processing Iterables Without a Loop\n",
        "* Python’s map() is a built-in function that allows you to process and transform all the items in an iterable without using an explicit for loop, a technique commonly known as mapping."
      ],
      "metadata": {
        "id": "E1Ve9tDADWIW"
      }
    },
    {
      "cell_type": "code",
      "source": [
        "# Example: Square each element in a list by Loops\n",
        "a = [1, 2, 3, 4, 5]\n",
        "\n",
        "b = []\n",
        "\n",
        "for i in a:\n",
        "  b.append(i**2)\n",
        "\n",
        "print(b)\n",
        "\n",
        "b=[]\n",
        "for i in a:\n",
        "  b.append(i**2)\n",
        "\n",
        "\n",
        "print(b)\n"
      ],
      "metadata": {
        "id": "IOh0vkIYDVgn",
        "colab": {
          "base_uri": "https://localhost:8080/"
        },
        "outputId": "c63dd9af-706a-47a3-cfd3-c1c9bbcd4bec"
      },
      "execution_count": null,
      "outputs": [
        {
          "output_type": "stream",
          "name": "stdout",
          "text": [
            "[1, 4, 9, 16, 25]\n"
          ]
        }
      ]
    },
    {
      "cell_type": "code",
      "source": [
        "# Example: Square each element in a list by map\n",
        "a = [1, 2, 3, 4, 5]\n",
        "\n",
        "list(map(lambda x: x ** 2, a)) #"
      ],
      "metadata": {
        "id": "Qxu6I3ccC3iV",
        "colab": {
          "base_uri": "https://localhost:8080/"
        },
        "outputId": "b92dd4c5-3847-47de-ca2c-2b84f7ee83cf"
      },
      "execution_count": null,
      "outputs": [
        {
          "output_type": "execute_result",
          "data": {
            "text/plain": [
              "[1, 4, 9, 16, 25]"
            ]
          },
          "metadata": {},
          "execution_count": 46
        }
      ]
    },
    {
      "cell_type": "code",
      "source": [
        "str_nums = [\"4\", \"8\", \"6\", \"5\", \"3\", \"2\", \"8\", \"9\", \"2\", \"5\"]\n",
        "\n",
        "list(map(int, str_nums))"
      ],
      "metadata": {
        "colab": {
          "base_uri": "https://localhost:8080/"
        },
        "id": "0OGI77VM4qRU",
        "outputId": "dd6fa8e8-32ef-4bfc-e5f4-3eb3096e15f1"
      },
      "execution_count": null,
      "outputs": [
        {
          "output_type": "execute_result",
          "data": {
            "text/plain": [
              "[4, 8, 6, 5, 3, 2, 8, 9, 2, 5]"
            ]
          },
          "metadata": {},
          "execution_count": 47
        }
      ]
    },
    {
      "cell_type": "markdown",
      "source": [
        "## Practice problems\n",
        "1. Convert string to integers.\n",
        "\n",
        "str_nums = [\"4\", \"8\", \"6\", \"5\", \"3\", \"2\", \"8\", \"9\", \"2\", \"5\"]\n",
        "2. Find the length of all the words.\n",
        "\n",
        "words = [\"Welcome\", \"to\", \"Real\", \"Python\"]"
      ],
      "metadata": {
        "id": "t_fYbievD3fe"
      }
    },
    {
      "cell_type": "code",
      "source": [
        "[7, 2, 4, 6]"
      ],
      "metadata": {
        "id": "1g-Y5AI95mrI"
      },
      "execution_count": null,
      "outputs": []
    },
    {
      "cell_type": "code",
      "source": [
        "str_nums = [\"4\", \"8\", \"6\", \"5\", \"3\", \"2\", \"8\", \"9\", \"2\", \"5\"]\n",
        "\n",
        "list(map(lambda x: int(x), str_nums))"
      ],
      "metadata": {
        "colab": {
          "base_uri": "https://localhost:8080/"
        },
        "id": "xOzavQAHt8w6",
        "outputId": "441017a7-9979-4671-b139-bb3181c89fb5"
      },
      "execution_count": null,
      "outputs": [
        {
          "output_type": "execute_result",
          "data": {
            "text/plain": [
              "[4, 8, 6, 5, 3, 2, 8, 9, 2, 5]"
            ]
          },
          "metadata": {},
          "execution_count": 65
        }
      ]
    },
    {
      "cell_type": "code",
      "source": [
        "words = [\"Welcome\", \"to\", \"Real\", \"Python\"]\n",
        "\n",
        "list(map(lambda x: len(x), words))"
      ],
      "metadata": {
        "colab": {
          "base_uri": "https://localhost:8080/"
        },
        "id": "eXqd1PbwuFTS",
        "outputId": "93f5d70d-bfef-4ae9-803a-7cbb8ac0b4e2"
      },
      "execution_count": null,
      "outputs": [
        {
          "output_type": "execute_result",
          "data": {
            "text/plain": [
              "[7, 2, 4, 6]"
            ]
          },
          "metadata": {},
          "execution_count": 66
        }
      ]
    },
    {
      "cell_type": "markdown",
      "source": [
        "## Reduce\n",
        "* Python’s reduce() is a function that implements a mathematical technique called folding or reduction. reduce() is useful when you need to apply a function to an iterable and reduce it to a single cumulative value.\n",
        "* available in **functools** module"
      ],
      "metadata": {
        "id": "e8hHF-SeEdwt"
      }
    },
    {
      "cell_type": "code",
      "source": [
        "from functools import reduce"
      ],
      "metadata": {
        "id": "H2HT2K54Ezq3"
      },
      "execution_count": null,
      "outputs": []
    },
    {
      "cell_type": "code",
      "source": [
        "# Example: Find the sum of the elements in a given list\n",
        "\n",
        "x = [1, 2, 3, 4, 5]\n",
        "\n",
        "reduce(lambda a,b: a+b, x)"
      ],
      "metadata": {
        "id": "Nc2E7pnoE1Q3",
        "colab": {
          "base_uri": "https://localhost:8080/"
        },
        "outputId": "9e406a44-bcaa-4003-9120-316672d8533f"
      },
      "execution_count": null,
      "outputs": [
        {
          "output_type": "execute_result",
          "data": {
            "text/plain": [
              "15"
            ]
          },
          "metadata": {},
          "execution_count": 51
        }
      ]
    },
    {
      "cell_type": "code",
      "source": [],
      "metadata": {
        "id": "5i9S2kV-6rDF"
      },
      "execution_count": null,
      "outputs": []
    },
    {
      "cell_type": "code",
      "source": [
        "x = [1, 2, 3, 4, 5]\n",
        "\n",
        "summ = 0\n",
        "\n",
        "for i in x:\n",
        "  summ += i\n",
        "\n",
        "print(summ)"
      ],
      "metadata": {
        "colab": {
          "base_uri": "https://localhost:8080/"
        },
        "id": "EAJiO3P86chf",
        "outputId": "354761dd-ad24-4993-dad0-146717151832"
      },
      "execution_count": null,
      "outputs": [
        {
          "output_type": "stream",
          "name": "stdout",
          "text": [
            "15\n"
          ]
        }
      ]
    },
    {
      "cell_type": "code",
      "source": [
        "# Map, filter and reduce -> no loops"
      ],
      "metadata": {
        "id": "b9JqKUwi85Zz"
      },
      "execution_count": null,
      "outputs": []
    },
    {
      "cell_type": "markdown",
      "source": [
        "# Practice problems\n",
        "1. Find the min and max of a given list"
      ],
      "metadata": {
        "id": "JHxVyvHzFOSG"
      }
    },
    {
      "cell_type": "code",
      "source": [
        "a = [2, 13, 24, 5]\n",
        "\n",
        "reduce(lambda x,y: x if x>y else y, a)"
      ],
      "metadata": {
        "colab": {
          "base_uri": "https://localhost:8080/"
        },
        "id": "PtvomSUpuiqA",
        "outputId": "8fc7778c-1de4-4dee-e301-a9f248532a86"
      },
      "execution_count": null,
      "outputs": [
        {
          "output_type": "execute_result",
          "data": {
            "text/plain": [
              "24"
            ]
          },
          "metadata": {},
          "execution_count": 52
        }
      ]
    },
    {
      "cell_type": "code",
      "source": [],
      "metadata": {
        "id": "j8NWEY7n9JqK"
      },
      "execution_count": null,
      "outputs": []
    },
    {
      "cell_type": "markdown",
      "source": [
        "## Filter\n",
        "* Python’s filter() is a built-in function that allows you to process an iterable and extract those items that satisfy a given condition. This process is commonly known as a filtering operation."
      ],
      "metadata": {
        "id": "8rk6Q82KFZpm"
      }
    },
    {
      "cell_type": "code",
      "source": [
        "a = [2, 4, 7, 9, 4, 6, 12]\n",
        "\n",
        "for i in a:\n",
        "  if i % 2 == 0:\n",
        "    print(i)"
      ],
      "metadata": {
        "colab": {
          "base_uri": "https://localhost:8080/"
        },
        "id": "myKccTsi9Ovd",
        "outputId": "8ee349e7-4ed1-4520-e603-d80273204afa"
      },
      "execution_count": null,
      "outputs": [
        {
          "output_type": "stream",
          "name": "stdout",
          "text": [
            "2\n",
            "4\n",
            "4\n",
            "6\n",
            "12\n"
          ]
        }
      ]
    },
    {
      "cell_type": "code",
      "source": [
        "# Example: Extract even numbers from a given list of numbers\n",
        "\n",
        "a = [2, 4, 7, 9, 4, 6, 12]\n",
        "\n",
        "list(filter(lambda x: x%2 == 0, a))"
      ],
      "metadata": {
        "id": "y4vri8W8FZOZ",
        "colab": {
          "base_uri": "https://localhost:8080/"
        },
        "outputId": "bff775f3-9459-4483-f1fa-f6055b24460f"
      },
      "execution_count": null,
      "outputs": [
        {
          "output_type": "execute_result",
          "data": {
            "text/plain": [
              "[2, 4, 4, 6, 12]"
            ]
          },
          "metadata": {},
          "execution_count": 73
        }
      ]
    },
    {
      "cell_type": "markdown",
      "source": [
        "## Practice problems\n",
        "1. Get all the palindromes in the given list.\n",
        "\n",
        "words = (\"filter\", \"Ana\", \"hello\", \"world\", \"madam\", \"racecar\")\n",
        "2. Remove the outliers from a given list.\n",
        "\n",
        "sample = [10, 8, 10, 8, 2, 7, 9, 3, 34, 9, 5, 9, 25]"
      ],
      "metadata": {
        "id": "z80z1wtYFuMQ"
      }
    },
    {
      "cell_type": "code",
      "source": [
        "words = (\"filter\", \"Ana\", \"hello\", \"world\", \"madam\", \"racecar\")\n",
        "\n",
        "list(filter(lambda x: True if x[::-1] == x else False, words))"
      ],
      "metadata": {
        "colab": {
          "base_uri": "https://localhost:8080/"
        },
        "id": "jBfEcTkSu80h",
        "outputId": "3f88d8c3-9f52-41c4-9795-a0027494a450"
      },
      "execution_count": null,
      "outputs": [
        {
          "output_type": "execute_result",
          "data": {
            "text/plain": [
              "['madam', 'racecar']"
            ]
          },
          "metadata": {},
          "execution_count": 74
        }
      ]
    },
    {
      "cell_type": "code",
      "source": [
        "import statistics as st\n",
        "sample = [10, 8, 10, 8, 2, 7, 9, 3, 34, 9, 5, 9, 25]\n",
        "mean = st.mean(sample)\n",
        "stdev = st.stdev(sample)\n",
        "\n",
        "low = mean - 2 * stdev\n",
        "high = mean + 2 * stdev\n",
        "\n",
        "clean = filter(lambda number: low <= number <= high, sample)\n",
        "list(clean)"
      ],
      "metadata": {
        "colab": {
          "base_uri": "https://localhost:8080/"
        },
        "id": "iQ99mQulvVwz",
        "outputId": "e0fbddd0-70b9-4b43-a3a1-8e7d0dc0457b"
      },
      "execution_count": null,
      "outputs": [
        {
          "output_type": "execute_result",
          "data": {
            "text/plain": [
              "[10, 8, 10, 8, 2, 7, 9, 3, 9, 5, 9, 25]"
            ]
          },
          "metadata": {},
          "execution_count": 55
        }
      ]
    },
    {
      "cell_type": "markdown",
      "source": [
        "# Practice problems on lambda, map, reduce and filter\n",
        "1. Calculate the factorial of a number using reduce function\n",
        "2. Caplitalize all the words in a given list using map function\n",
        "3. Create a list with both positive and negative values and now write a program to remove the negative numbers using filter function\n",
        "4. Get a list of primes between 50 and 100 using lambda and filter functions\n",
        "5. Find the sum of all the digits in a given number using reduce"
      ],
      "metadata": {
        "id": "1uI_ROssGnNy"
      }
    },
    {
      "cell_type": "code",
      "source": [
        "reduce(lambda x, y: x*y, range(1, 6))"
      ],
      "metadata": {
        "colab": {
          "base_uri": "https://localhost:8080/"
        },
        "id": "2hwMObdb4Ppr",
        "outputId": "dd1c6e41-9668-448d-c2a1-f16a3c20b091"
      },
      "execution_count": null,
      "outputs": [
        {
          "output_type": "execute_result",
          "data": {
            "text/plain": [
              "120"
            ]
          },
          "metadata": {},
          "execution_count": 77
        }
      ]
    },
    {
      "cell_type": "code",
      "source": [
        "string_it = [\"processing\", \"strings\", \"with\", \"map\"]\n",
        "\n",
        "list(map(lambda s:s.capitalize(), string_it))"
      ],
      "metadata": {
        "colab": {
          "base_uri": "https://localhost:8080/"
        },
        "id": "hqyZV_1c4Vt9",
        "outputId": "8f5dfc00-f66b-488d-e901-8fa9d29db3e4"
      },
      "execution_count": null,
      "outputs": [
        {
          "output_type": "execute_result",
          "data": {
            "text/plain": [
              "['Processing', 'Strings', 'With', 'Map']"
            ]
          },
          "metadata": {},
          "execution_count": 78
        }
      ]
    },
    {
      "cell_type": "code",
      "source": [
        "a = [-1, -2, 5, 6]\n",
        "list(filter(lambda x: x>0, a))"
      ],
      "metadata": {
        "colab": {
          "base_uri": "https://localhost:8080/"
        },
        "id": "dxQCrrJV4jnJ",
        "outputId": "cb8198a1-3a57-4170-f2aa-370761993db2"
      },
      "execution_count": null,
      "outputs": [
        {
          "output_type": "execute_result",
          "data": {
            "text/plain": [
              "[5, 6]"
            ]
          },
          "metadata": {},
          "execution_count": 80
        }
      ]
    },
    {
      "cell_type": "code",
      "source": [
        "def getprimes(given):\n",
        "  numbers = filter(lambda number: given%number == 0, range(2, given))\n",
        "  if len(list(numbers)) == 0:\n",
        "    return True\n",
        "  else:\n",
        "    return False\n",
        "numbers = filter(getprimes, range(50, 100))\n",
        "list(numbers)"
      ],
      "metadata": {
        "colab": {
          "base_uri": "https://localhost:8080/"
        },
        "id": "NWAPoTbj41CZ",
        "outputId": "36add3c7-56bf-4ace-d63b-ea6c7016dd24"
      },
      "execution_count": null,
      "outputs": [
        {
          "output_type": "execute_result",
          "data": {
            "text/plain": [
              "[53, 59, 61, 67, 71, 73, 79, 83, 89, 97]"
            ]
          },
          "metadata": {},
          "execution_count": 82
        }
      ]
    },
    {
      "cell_type": "code",
      "source": [
        "a = 123\n",
        "reduce(lambda x,y: x+y, list(map(int, str(a))))"
      ],
      "metadata": {
        "colab": {
          "base_uri": "https://localhost:8080/"
        },
        "id": "bp0R5yOi5Bfw",
        "outputId": "185d5e91-2f25-4fa5-c092-1a3485bf6d2f"
      },
      "execution_count": null,
      "outputs": [
        {
          "output_type": "execute_result",
          "data": {
            "text/plain": [
              "6"
            ]
          },
          "metadata": {},
          "execution_count": 83
        }
      ]
    },
    {
      "cell_type": "code",
      "source": [],
      "metadata": {
        "id": "LmOm31RF5Teb"
      },
      "execution_count": null,
      "outputs": []
    }
  ]
}
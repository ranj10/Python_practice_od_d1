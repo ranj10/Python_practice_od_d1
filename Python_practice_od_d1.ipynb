{
  "nbformat": 4,
  "nbformat_minor": 0,
  "metadata": {
    "colab": {
      "provenance": [],
      "authorship_tag": "ABX9TyMLO9qS+1EHyzeKPPx40sQ1",
      "include_colab_link": true
    },
    "kernelspec": {
      "name": "python3",
      "display_name": "Python 3"
    },
    "language_info": {
      "name": "python"
    }
  },
  "cells": [
    {
      "cell_type": "markdown",
      "metadata": {
        "id": "view-in-github",
        "colab_type": "text"
      },
      "source": [
        "<a href=\"https://colab.research.google.com/github/ranj10/Python_practice_od_d1/blob/main/Python_practice_od_d1.ipynb\" target=\"_parent\"><img src=\"https://colab.research.google.com/assets/colab-badge.svg\" alt=\"Open In Colab\"/></a>"
      ]
    },
    {
      "cell_type": "code",
      "source": [
        "# task-1\n",
        "a = input(\"enter your name here:\")\n",
        "print(\"hello\", a)"
      ],
      "metadata": {
        "id": "NSsUsDFrEmgm",
        "colab": {
          "base_uri": "https://localhost:8080/"
        },
        "outputId": "cc23ff67-b677-4a98-9250-5374617aa80b"
      },
      "execution_count": null,
      "outputs": [
        {
          "output_type": "stream",
          "name": "stdout",
          "text": [
            "enter your name here:ranjana\n",
            "hello ranjana\n"
          ]
        }
      ]
    },
    {
      "cell_type": "code",
      "source": [
        "#task-2\n",
        "divd=int(input(\"Enter the dividend \"))\n",
        "divr=int(input(\"Enter the devisor \"))\n",
        "print(\"Quetent is:{}\".format(divd/divr))"
      ],
      "metadata": {
        "id": "wyMXf_U2EmjZ",
        "colab": {
          "base_uri": "https://localhost:8080/"
        },
        "outputId": "a2f4d4df-6883-44a6-a718-32fd6125ef28"
      },
      "execution_count": null,
      "outputs": [
        {
          "output_type": "stream",
          "name": "stdout",
          "text": [
            "Enter the dividend 21\n",
            "Enter the devisor 6\n",
            "Quetent is:3.5\n"
          ]
        }
      ]
    },
    {
      "cell_type": "code",
      "source": [
        "#TASK-3\n",
        "divd=float(input(\"Enter the dividend \"))\n",
        "divr=float(input(\"Enter the devisor \"))\n",
        "print(\"Quetent is:{}\".format(divd/divr))\n",
        "print(\"reminder is {}:\".format(divd%divr))\n",
        "\n"
      ],
      "metadata": {
        "id": "cEBgpXvGEmmP",
        "colab": {
          "base_uri": "https://localhost:8080/"
        },
        "outputId": "e32e57c2-1d7d-462e-f660-05bd6e714926"
      },
      "execution_count": null,
      "outputs": [
        {
          "output_type": "stream",
          "name": "stdout",
          "text": [
            "Enter the dividend 22\n",
            "Enter the devisor 6\n",
            "Quetent is:3.6666666666666665\n",
            "reminder is 4.0:\n"
          ]
        }
      ]
    },
    {
      "cell_type": "code",
      "source": [
        "#Task-4\n",
        "n = input(\"enter your name here:\")\n",
        "ag = int(input(\"enter your age here:\"))\n",
        "g = input(\"enter your gender here:\")\n",
        "o = input(\"enter your occupation here:\")\n",
        "w =float(input(\"enter your weight here:\"))\n",
        "h = float(input(\"enter your height here:\"))\n",
        "\n",
        "print(\"{} is {} years old {} {}\".format(n,ag,g,o))"
      ],
      "metadata": {
        "id": "YyKHlDR7Empp",
        "colab": {
          "base_uri": "https://localhost:8080/"
        },
        "outputId": "018d4e2b-a19f-482b-a77a-e8ab1022011a"
      },
      "execution_count": null,
      "outputs": [
        {
          "output_type": "stream",
          "name": "stdout",
          "text": [
            "enter your name here:ranjana\n",
            "enter your age here:32\n",
            "enter your gender here:female\n",
            "enter your occupation here:banker\n",
            "enter your weight here:58\n",
            "enter your height here:5.1\n",
            "ranjana is 32 years old female banker\n"
          ]
        }
      ]
    },
    {
      "cell_type": "code",
      "source": [
        "#Task-5\n",
        "height_meters = h * 0.3048\n",
        "bmi=w/height_meters**2\n",
        "print(\"BMI of {} is {}:\".format(n,bmi))"
      ],
      "metadata": {
        "colab": {
          "base_uri": "https://localhost:8080/"
        },
        "id": "lUZ9TX0SfZis",
        "outputId": "18f3bc98-661c-43c2-e8a7-c68f1a9e5bdc"
      },
      "execution_count": null,
      "outputs": [
        {
          "output_type": "stream",
          "name": "stdout",
          "text": [
            "BMI of ranjana is 24.002568403274278:\n"
          ]
        }
      ]
    },
    {
      "cell_type": "code",
      "source": [
        "#Task-5\n",
        "a=10\n",
        "b=12\n",
        "c=0\n",
        "d=-1\n",
        "\n",
        "(a<b) and (a+1>b)\n"
      ],
      "metadata": {
        "colab": {
          "base_uri": "https://localhost:8080/"
        },
        "id": "IlKCb1RCfZmS",
        "outputId": "4b4985b7-54f8-4f7d-c7f5-79abe5424e13"
      },
      "execution_count": null,
      "outputs": [
        {
          "output_type": "execute_result",
          "data": {
            "text/plain": [
              "False"
            ]
          },
          "metadata": {},
          "execution_count": 19
        }
      ]
    },
    {
      "cell_type": "code",
      "source": [
        "(1==1) or (1==2)\n"
      ],
      "metadata": {
        "colab": {
          "base_uri": "https://localhost:8080/"
        },
        "id": "umCMk0ErfZwI",
        "outputId": "7cc233b3-3bcc-4578-a6f0-27b3c65bb528"
      },
      "execution_count": null,
      "outputs": [
        {
          "output_type": "execute_result",
          "data": {
            "text/plain": [
              "True"
            ]
          },
          "metadata": {},
          "execution_count": 20
        }
      ]
    },
    {
      "cell_type": "code",
      "source": [
        "0 or False"
      ],
      "metadata": {
        "colab": {
          "base_uri": "https://localhost:8080/"
        },
        "id": "ETJSv2X0fZyx",
        "outputId": "f9a9d61e-8ee5-48e2-aa2d-f6a744933822"
      },
      "execution_count": null,
      "outputs": [
        {
          "output_type": "execute_result",
          "data": {
            "text/plain": [
              "False"
            ]
          },
          "metadata": {},
          "execution_count": 21
        }
      ]
    },
    {
      "cell_type": "code",
      "source": [
        "1 or False"
      ],
      "metadata": {
        "colab": {
          "base_uri": "https://localhost:8080/"
        },
        "id": "BDhM3SkvfZ1i",
        "outputId": "20ce3b8a-f5b1-44ef-9aa0-6bd5ac4c8fde"
      },
      "execution_count": null,
      "outputs": [
        {
          "output_type": "execute_result",
          "data": {
            "text/plain": [
              "1"
            ]
          },
          "metadata": {},
          "execution_count": 22
        }
      ]
    },
    {
      "cell_type": "code",
      "source": [
        "False or 1"
      ],
      "metadata": {
        "colab": {
          "base_uri": "https://localhost:8080/"
        },
        "id": "vziTMGb6fZ4H",
        "outputId": "3e843fa6-174f-45c6-fc51-a232d2a4c5cd"
      },
      "execution_count": null,
      "outputs": [
        {
          "output_type": "execute_result",
          "data": {
            "text/plain": [
              "1"
            ]
          },
          "metadata": {},
          "execution_count": 23
        }
      ]
    },
    {
      "cell_type": "code",
      "source": [
        "False and 1"
      ],
      "metadata": {
        "colab": {
          "base_uri": "https://localhost:8080/"
        },
        "id": "oZz4pIHefZ6a",
        "outputId": "a237ea67-cba0-440d-f2da-37f9def1a679"
      },
      "execution_count": null,
      "outputs": [
        {
          "output_type": "execute_result",
          "data": {
            "text/plain": [
              "False"
            ]
          },
          "metadata": {},
          "execution_count": 24
        }
      ]
    },
    {
      "cell_type": "code",
      "source": [
        "(not 0) or (not 'A')"
      ],
      "metadata": {
        "colab": {
          "base_uri": "https://localhost:8080/"
        },
        "id": "OIQHAVpcfZ-B",
        "outputId": "0c35c0c5-9a3e-4386-b600-6b0673bf80ed"
      },
      "execution_count": null,
      "outputs": [
        {
          "output_type": "execute_result",
          "data": {
            "text/plain": [
              "True"
            ]
          },
          "metadata": {},
          "execution_count": 25
        }
      ]
    },
    {
      "cell_type": "code",
      "source": [
        "\n",
        "False or ''"
      ],
      "metadata": {
        "colab": {
          "base_uri": "https://localhost:8080/",
          "height": 36
        },
        "id": "XcZwSiymjYYM",
        "outputId": "9dbfb4a1-b466-4e25-cc51-8e479fd6716d"
      },
      "execution_count": null,
      "outputs": [
        {
          "output_type": "execute_result",
          "data": {
            "text/plain": [
              "''"
            ],
            "application/vnd.google.colaboratory.intrinsic+json": {
              "type": "string"
            }
          },
          "metadata": {},
          "execution_count": 26
        }
      ]
    },
    {
      "cell_type": "code",
      "source": [
        "True and ' '"
      ],
      "metadata": {
        "colab": {
          "base_uri": "https://localhost:8080/",
          "height": 36
        },
        "id": "SATU9A-ajYa0",
        "outputId": "1cee5b05-e4ff-4cd6-8726-a06aec55be2e"
      },
      "execution_count": null,
      "outputs": [
        {
          "output_type": "execute_result",
          "data": {
            "text/plain": [
              "' '"
            ],
            "application/vnd.google.colaboratory.intrinsic+json": {
              "type": "string"
            }
          },
          "metadata": {},
          "execution_count": 27
        }
      ]
    },
    {
      "cell_type": "code",
      "source": [
        "d or c"
      ],
      "metadata": {
        "colab": {
          "base_uri": "https://localhost:8080/"
        },
        "id": "6mNUyhU0jYdi",
        "outputId": "19d8ee90-3289-4a52-84d1-8acd1a2cffad"
      },
      "execution_count": null,
      "outputs": [
        {
          "output_type": "execute_result",
          "data": {
            "text/plain": [
              "-1"
            ]
          },
          "metadata": {},
          "execution_count": 28
        }
      ]
    },
    {
      "cell_type": "code",
      "source": [
        "not d and c"
      ],
      "metadata": {
        "colab": {
          "base_uri": "https://localhost:8080/"
        },
        "id": "uUPF7ie3jYgH",
        "outputId": "0a95dbae-89ea-4fb9-e6c3-a9eb8faa37bf"
      },
      "execution_count": null,
      "outputs": [
        {
          "output_type": "execute_result",
          "data": {
            "text/plain": [
              "False"
            ]
          },
          "metadata": {},
          "execution_count": 29
        }
      ]
    },
    {
      "cell_type": "code",
      "source": [
        "c and not d"
      ],
      "metadata": {
        "colab": {
          "base_uri": "https://localhost:8080/"
        },
        "id": "d5ONm4JbjYiy",
        "outputId": "75b0d66a-5dcd-4bbc-e0f4-728826402585"
      },
      "execution_count": null,
      "outputs": [
        {
          "output_type": "execute_result",
          "data": {
            "text/plain": [
              "0"
            ]
          },
          "metadata": {},
          "execution_count": 30
        }
      ]
    },
    {
      "cell_type": "code",
      "source": [
        "\n",
        "str(c) in str(a)"
      ],
      "metadata": {
        "colab": {
          "base_uri": "https://localhost:8080/"
        },
        "id": "neFFANPLjYlF",
        "outputId": "0b81a599-03f9-41cd-b7ec-e66505ebfb2a"
      },
      "execution_count": null,
      "outputs": [
        {
          "output_type": "execute_result",
          "data": {
            "text/plain": [
              "True"
            ]
          },
          "metadata": {},
          "execution_count": 31
        }
      ]
    },
    {
      "cell_type": "code",
      "source": [
        "'3' in str(a)"
      ],
      "metadata": {
        "colab": {
          "base_uri": "https://localhost:8080/"
        },
        "id": "jzcRGIgfjYnv",
        "outputId": "01bdd9e8-dd75-4681-9720-12ae72719ef1"
      },
      "execution_count": null,
      "outputs": [
        {
          "output_type": "execute_result",
          "data": {
            "text/plain": [
              "False"
            ]
          },
          "metadata": {},
          "execution_count": 32
        }
      ]
    },
    {
      "cell_type": "code",
      "source": [
        "string1='Let us discuss collections'\n",
        "print(type(string1))\n",
        "print(string1)\n",
        "print(string1[2])\n",
        "# REMOVE THE COMMENT SYMBOL BEFORE NEXT LINE AND TRY TO EXECUTE\n",
        "#string1[2]='ts' #this line returns error\n",
        "\n"
      ],
      "metadata": {
        "colab": {
          "base_uri": "https://localhost:8080/"
        },
        "id": "goTzLFpejYp3",
        "outputId": "5329ad30-5268-4d49-bd5e-c45779512ac1"
      },
      "execution_count": null,
      "outputs": [
        {
          "output_type": "stream",
          "name": "stdout",
          "text": [
            "<class 'str'>\n",
            "Let us discuss collections\n",
            "t\n"
          ]
        }
      ]
    },
    {
      "cell_type": "code",
      "source": [
        "list1=[1,'Apple',200, 20.5,True,0]  #this is a list of values, lists are mutable\n",
        "print(type(list1))\n",
        "print(list1[2])\n",
        "list1[2]='Two'\n",
        "print(list1)"
      ],
      "metadata": {
        "colab": {
          "base_uri": "https://localhost:8080/"
        },
        "id": "zfA5wRHLjYtc",
        "outputId": "629ac581-d78d-4608-cf92-6db8e26ce279"
      },
      "execution_count": null,
      "outputs": [
        {
          "output_type": "stream",
          "name": "stdout",
          "text": [
            "<class 'list'>\n",
            "200\n",
            "[1, 'Apple', 'Two', 20.5, True, 0]\n"
          ]
        }
      ]
    },
    {
      "cell_type": "code",
      "source": [
        "tuple1=(1,'ball',459, 2.89,True,0) #tuples are similar to list, but immutable\n",
        "print(type(tuple1))\n",
        "print(tuple1[2])\n",
        "# REMOVE THE COMMENT SYMBOL BEFORE NEXT LINE AND TRY TO EXECUTE\n",
        "tuple1[2]='four five nine' #this line returns error\n",
        "print(tuple1)"
      ],
      "metadata": {
        "colab": {
          "base_uri": "https://localhost:8080/",
          "height": 262
        },
        "id": "_rkAX3JYruP2",
        "outputId": "88e4f53e-dd73-43bd-eae1-71e4a5024712"
      },
      "execution_count": null,
      "outputs": [
        {
          "output_type": "stream",
          "name": "stdout",
          "text": [
            "<class 'tuple'>\n",
            "459\n"
          ]
        },
        {
          "output_type": "error",
          "ename": "TypeError",
          "evalue": "ignored",
          "traceback": [
            "\u001b[0;31m---------------------------------------------------------------------------\u001b[0m",
            "\u001b[0;31mTypeError\u001b[0m                                 Traceback (most recent call last)",
            "\u001b[0;32m<ipython-input-36-5cf8c7115abd>\u001b[0m in \u001b[0;36m<cell line: 5>\u001b[0;34m()\u001b[0m\n\u001b[1;32m      3\u001b[0m \u001b[0mprint\u001b[0m\u001b[0;34m(\u001b[0m\u001b[0mtuple1\u001b[0m\u001b[0;34m[\u001b[0m\u001b[0;36m2\u001b[0m\u001b[0;34m]\u001b[0m\u001b[0;34m)\u001b[0m\u001b[0;34m\u001b[0m\u001b[0;34m\u001b[0m\u001b[0m\n\u001b[1;32m      4\u001b[0m \u001b[0;31m# REMOVE THE COMMENT SYMBOL BEFORE NEXT LINE AND TRY TO EXECUTE\u001b[0m\u001b[0;34m\u001b[0m\u001b[0;34m\u001b[0m\u001b[0m\n\u001b[0;32m----> 5\u001b[0;31m \u001b[0mtuple1\u001b[0m\u001b[0;34m[\u001b[0m\u001b[0;36m2\u001b[0m\u001b[0;34m]\u001b[0m\u001b[0;34m=\u001b[0m\u001b[0;34m'four five nine'\u001b[0m \u001b[0;31m#this line returns error\u001b[0m\u001b[0;34m\u001b[0m\u001b[0;34m\u001b[0m\u001b[0m\n\u001b[0m\u001b[1;32m      6\u001b[0m \u001b[0mprint\u001b[0m\u001b[0;34m(\u001b[0m\u001b[0mtuple1\u001b[0m\u001b[0;34m)\u001b[0m\u001b[0;34m\u001b[0m\u001b[0;34m\u001b[0m\u001b[0m\n",
            "\u001b[0;31mTypeError\u001b[0m: 'tuple' object does not support item assignment"
          ]
        }
      ]
    },
    {
      "cell_type": "code",
      "source": [
        "set1={24,24,2,2,3,4,24,'Apple','boy'} # sets are similar to sets in mathematcis, and  mutable. Sets do not have index.\n",
        "print(type(set1))\n",
        "print(set1) #returns only the distinct values\n",
        "# REMOVE THE COMMENT SYMBOL BEFORE NEXT LINE AND TRY TO EXECUTE\n",
        "print(set1[1])"
      ],
      "metadata": {
        "colab": {
          "base_uri": "https://localhost:8080/",
          "height": 245
        },
        "id": "6AtucsqLruSl",
        "outputId": "332b12f9-be37-4b73-a765-16b03906cdb0"
      },
      "execution_count": null,
      "outputs": [
        {
          "output_type": "stream",
          "name": "stdout",
          "text": [
            "<class 'set'>\n",
            "{2, 3, 4, 'Apple', 'boy', 24}\n"
          ]
        },
        {
          "output_type": "error",
          "ename": "TypeError",
          "evalue": "ignored",
          "traceback": [
            "\u001b[0;31m---------------------------------------------------------------------------\u001b[0m",
            "\u001b[0;31mTypeError\u001b[0m                                 Traceback (most recent call last)",
            "\u001b[0;32m<ipython-input-38-9c53bae6d965>\u001b[0m in \u001b[0;36m<cell line: 5>\u001b[0;34m()\u001b[0m\n\u001b[1;32m      3\u001b[0m \u001b[0mprint\u001b[0m\u001b[0;34m(\u001b[0m\u001b[0mset1\u001b[0m\u001b[0;34m)\u001b[0m \u001b[0;31m#returns only the distinct values\u001b[0m\u001b[0;34m\u001b[0m\u001b[0;34m\u001b[0m\u001b[0m\n\u001b[1;32m      4\u001b[0m \u001b[0;31m# REMOVE THE COMMENT SYMBOL BEFORE NEXT LINE AND TRY TO EXECUTE\u001b[0m\u001b[0;34m\u001b[0m\u001b[0;34m\u001b[0m\u001b[0m\n\u001b[0;32m----> 5\u001b[0;31m \u001b[0mprint\u001b[0m\u001b[0;34m(\u001b[0m\u001b[0mset1\u001b[0m\u001b[0;34m[\u001b[0m\u001b[0;36m1\u001b[0m\u001b[0;34m]\u001b[0m\u001b[0;34m)\u001b[0m\u001b[0;34m\u001b[0m\u001b[0;34m\u001b[0m\u001b[0m\n\u001b[0m",
            "\u001b[0;31mTypeError\u001b[0m: 'set' object is not subscriptable"
          ]
        }
      ]
    },
    {
      "cell_type": "code",
      "source": [
        "dict1={'Name':'Shyam', 'age':30, 'shift':'second', 'married':'no'}\n",
        "print(type(dict1))\n",
        "print(dict1)\n",
        "print(dict1['shift'])\n",
        "# REMOVE THE COMMENT SYMBOL BEFORE NEXT LINE AND TRY TO EXECUTE\n",
        "#print(dict1['Shift']) #gives error as key with capital 'S' in Shift not found\n",
        "\n",
        "# REMOVE THE COMMENT SYMBOL BEFORE NEXT LINE AND TRY TO EXECUTE\n",
        "print(dict1[0]) #error, dictionaries are not indexable"
      ],
      "metadata": {
        "colab": {
          "base_uri": "https://localhost:8080/",
          "height": 262
        },
        "id": "OBmrciwSruVS",
        "outputId": "e535909b-58cf-4324-f2c6-06f0fd5cec8c"
      },
      "execution_count": null,
      "outputs": [
        {
          "output_type": "stream",
          "name": "stdout",
          "text": [
            "<class 'dict'>\n",
            "{'Name': 'Shyam', 'age': 30, 'shift': 'second', 'married': 'no'}\n",
            "second\n"
          ]
        },
        {
          "output_type": "error",
          "ename": "KeyError",
          "evalue": "ignored",
          "traceback": [
            "\u001b[0;31m---------------------------------------------------------------------------\u001b[0m",
            "\u001b[0;31mKeyError\u001b[0m                                  Traceback (most recent call last)",
            "\u001b[0;32m<ipython-input-42-368967dc434e>\u001b[0m in \u001b[0;36m<cell line: 9>\u001b[0;34m()\u001b[0m\n\u001b[1;32m      7\u001b[0m \u001b[0;34m\u001b[0m\u001b[0m\n\u001b[1;32m      8\u001b[0m \u001b[0;31m# REMOVE THE COMMENT SYMBOL BEFORE NEXT LINE AND TRY TO EXECUTE\u001b[0m\u001b[0;34m\u001b[0m\u001b[0;34m\u001b[0m\u001b[0m\n\u001b[0;32m----> 9\u001b[0;31m \u001b[0mprint\u001b[0m\u001b[0;34m(\u001b[0m\u001b[0mdict1\u001b[0m\u001b[0;34m[\u001b[0m\u001b[0;36m0\u001b[0m\u001b[0;34m]\u001b[0m\u001b[0;34m)\u001b[0m \u001b[0;31m#error, dictionaries are not indexable\u001b[0m\u001b[0;34m\u001b[0m\u001b[0;34m\u001b[0m\u001b[0m\n\u001b[0m",
            "\u001b[0;31mKeyError\u001b[0m: 0"
          ]
        }
      ]
    },
    {
      "cell_type": "code",
      "source": [
        "#Task-8\n",
        "#Check the below requirements for True/False based on collections created in Task 7\n",
        "\n",
        "#Does the string string1 have @ in it?\n",
        "'@' in string1"
      ],
      "metadata": {
        "colab": {
          "base_uri": "https://localhost:8080/"
        },
        "id": "H_WzSNasruXw",
        "outputId": "26f842b9-8575-40d7-a156-4c7862478be5"
      },
      "execution_count": null,
      "outputs": [
        {
          "output_type": "execute_result",
          "data": {
            "text/plain": [
              "False"
            ]
          },
          "metadata": {},
          "execution_count": 47
        }
      ]
    },
    {
      "cell_type": "code",
      "source": [
        "#Is there any element 'Two' in list1?\n",
        "'Two' in list1"
      ],
      "metadata": {
        "colab": {
          "base_uri": "https://localhost:8080/"
        },
        "id": "d74FlRdEruaQ",
        "outputId": "e60cec4e-71f9-457a-e82f-6aaa223abcfd"
      },
      "execution_count": null,
      "outputs": [
        {
          "output_type": "execute_result",
          "data": {
            "text/plain": [
              "True"
            ]
          },
          "metadata": {},
          "execution_count": 48
        }
      ]
    },
    {
      "cell_type": "code",
      "source": [
        "#Is there any element 'Ball' in tuple1?\n",
        "'Ball' in tuple1"
      ],
      "metadata": {
        "colab": {
          "base_uri": "https://localhost:8080/"
        },
        "id": "a7haaBhYruce",
        "outputId": "9ef00051-38ea-4c42-d9cf-41b56348b281"
      },
      "execution_count": null,
      "outputs": [
        {
          "output_type": "execute_result",
          "data": {
            "text/plain": [
              "False"
            ]
          },
          "metadata": {},
          "execution_count": 49
        }
      ]
    },
    {
      "cell_type": "code",
      "source": [
        "#Is there value 4 in set1?\n",
        "4 in set1\n"
      ],
      "metadata": {
        "colab": {
          "base_uri": "https://localhost:8080/"
        },
        "id": "JYvvkN1BrufA",
        "outputId": "c36aef4c-37cd-4303-b7db-c96c3dc44d1b"
      },
      "execution_count": null,
      "outputs": [
        {
          "output_type": "execute_result",
          "data": {
            "text/plain": [
              "True"
            ]
          },
          "metadata": {},
          "execution_count": 53
        }
      ]
    },
    {
      "cell_type": "code",
      "source": [
        "#Is there any keyword for gender in dict1?\n",
        "'gender' in dict1"
      ],
      "metadata": {
        "colab": {
          "base_uri": "https://localhost:8080/"
        },
        "id": "4exYtbu0rugu",
        "outputId": "584383eb-7897-4142-9362-bda1ee5ce419"
      },
      "execution_count": null,
      "outputs": [
        {
          "output_type": "execute_result",
          "data": {
            "text/plain": [
              "False"
            ]
          },
          "metadata": {},
          "execution_count": 54
        }
      ]
    },
    {
      "cell_type": "code",
      "source": [],
      "metadata": {
        "id": "AUrQokX2rukS"
      },
      "execution_count": null,
      "outputs": []
    }
  ]
}